{
 "metadata": {
  "language_info": {
   "codemirror_mode": {
    "name": "ipython",
    "version": 3
   },
   "file_extension": ".py",
   "mimetype": "text/x-python",
   "name": "python",
   "nbconvert_exporter": "python",
   "pygments_lexer": "ipython3",
   "version": "3.9.0-final"
  },
  "orig_nbformat": 2,
  "kernelspec": {
   "name": "python3",
   "display_name": "Python 3"
  }
 },
 "nbformat": 4,
 "nbformat_minor": 2,
 "cells": [
  {
   "cell_type": "code",
   "execution_count": 1,
   "metadata": {},
   "outputs": [],
   "source": [
    "import numpy as np"
   ]
  },
  {
   "source": [
    "# 数据类型"
   ],
   "cell_type": "markdown",
   "metadata": {}
  },
  {
   "source": [
    "|类型|解释|\n",
    "|:-:|:-:|\n",
    "|bool|布尔类型，1 个字节，值为 True 或 False。|\n",
    "|int|整数类型，通常为 int64 或 int32 。|\n",
    "|intc|与 C 里的 int 相同，通常为 int32 或 int64。|\n",
    "|intp|用于索引，通常为 int32 或 int64。|\n",
    "|int8|字节（从 -128 到 127）|\n",
    "|int16|整数（从 -32768 到 32767）|\n",
    "|int32|整数（从 -2147483648 到 2147483647）|\n",
    "|int64|整数（从 -9223372036854775808 到 9223372036854775807）|\n",
    "|uint8|无符号整数（从 0 到 255）|\n",
    "|uint16|无符号整数（从 0 到 65535）|\n",
    "|uint32|无符号整数（从 0 到 4294967295）|\n",
    "|uint64|无符号整数（从 0 到 18446744073709551615）|\n",
    "|float|float64 的简写。|\n",
    "|float16|半精度浮点，5 位指数，10 位尾数|\n",
    "|float32|单精度浮点，8 位指数，23 位尾数|\n",
    "|float64|双精度浮点，11 位指数，52 位尾数|\n",
    "|complex|complex128 的简写。|\n",
    "|complex64|复数，由两个 32 位浮点表示。|\n",
    "|complex128|复数，由两个 64 位浮点表示。|"
   ],
   "cell_type": "markdown",
   "metadata": {}
  },
  {
   "source": [
    "# 数组生成  \n",
    "ndarray 类具有六个参数，它们分别为：  \n",
    "+ shape：数组的形状。  \n",
    "+ dtype：数据类型。  \n",
    "+ buffer：对象暴露缓冲区接口。  \n",
    "+ offset：数组数据的偏移量。  \n",
    "+ strides：数据步长。  \n",
    "+ order：{'C'，'F'}，以行或列为主排列顺序。  \n",
    "  \n",
    "**numpy.array(object, dtype=None, copy=True, order=None, subok=False, ndmin=0)**  \n",
    "  \n",
    "object：列表、元组等。  \n",
    "dtype：数据类型。如果未给出，则类型为被保存对象所需的最小类型。  \n",
    "copy：布尔类型，默认 True，表示复制对象。  \n",
    "order：顺序。  \n",
    "subok：布尔类型，表示子类是否被传递。  \n",
    "ndmin：生成的数组应具有的最小维数。"
   ],
   "cell_type": "markdown",
   "metadata": {}
  },
  {
   "cell_type": "code",
   "execution_count": 2,
   "metadata": {},
   "outputs": [
    {
     "output_type": "execute_result",
     "data": {
      "text/plain": [
       "(array([[1, 2, 3],\n",
       "        [4, 5, 6]]),\n",
       " (2, 3),\n",
       " dtype('int32'))"
      ]
     },
     "metadata": {},
     "execution_count": 2
    }
   ],
   "source": [
    "demo = np.array([[1, 2, 3], [4, 5, 6]])\n",
    "demo, demo.shape, demo.dtype\n"
   ]
  },
  {
   "source": [
    "## 创建一系列均匀间隔的值  \n",
    "设置起始，结束，间隔  \n",
    "numpy.arange(start, stop, step, dtype=None)  \n",
    "  \n",
    "设置起始，结束，数量  \n",
    "numpy.linspace(start, stop, num=50, endpoint=True, retstep=False, dtype=None)  \n",
    "* start：序列的起始值。  \n",
    "* stop：序列的结束值。  \n",
    "* num：生成的样本数。默认值为50。  \n",
    "* endpoint：布尔值，如果为真，则最后一个样本包含在序列内。  \n",
    "* retstep：布尔值，如果为真，返回间距。  \n",
    "* dtype：数组的类型。"
   ],
   "cell_type": "markdown",
   "metadata": {}
  },
  {
   "cell_type": "code",
   "execution_count": 3,
   "metadata": {},
   "outputs": [
    {
     "output_type": "execute_result",
     "data": {
      "text/plain": [
       "array([3. , 3.5, 4. , 4.5, 5. , 5.5, 6. , 6.5], dtype=float32)"
      ]
     },
     "metadata": {},
     "execution_count": 3
    }
   ],
   "source": [
    "np.arange(3, 7, 0.5, dtype='float32')"
   ]
  },
  {
   "cell_type": "code",
   "execution_count": 4,
   "metadata": {},
   "outputs": [
    {
     "output_type": "execute_result",
     "data": {
      "text/plain": [
       "array([0., 1., 2., 3., 4., 5., 6., 7., 8., 9.])"
      ]
     },
     "metadata": {},
     "execution_count": 4
    }
   ],
   "source": [
    "np.linspace(0, 10, 10, endpoint=False)"
   ]
  },
  {
   "source": [
    "## 特殊数组生成  \n",
    "**numpy.ones 用于快速创建数值全部为 1 的多维数组。其方法如下：**  \n",
    "  \n",
    "numpy.ones(shape, dtype=None, order='C')  \n",
    "- shape：用于指定数组形状，例如（1， 2）或 3。  \n",
    "- dtype：数据类型。  \n",
    "- order：{'C'，'F'}，按行或列方式储存数组。  \n",
    "  \n",
    "**zeros 方法和上面的 ones 方法非常相似，不同的地方在于，这里全部填充为 0。zeros 方法和 ones 是一致的。**  \n",
    "  \n",
    "numpy.zeros(shape, dtype=None, order='C')"
   ],
   "cell_type": "markdown",
   "metadata": {}
  },
  {
   "cell_type": "code",
   "execution_count": 5,
   "metadata": {},
   "outputs": [
    {
     "output_type": "execute_result",
     "data": {
      "text/plain": [
       "array([[1., 1., 1.],\n",
       "       [1., 1., 1.],\n",
       "       [1., 1., 1.]])"
      ]
     },
     "metadata": {},
     "execution_count": 5
    }
   ],
   "source": [
    "np.ones((3, 3))"
   ]
  },
  {
   "cell_type": "code",
   "execution_count": 6,
   "metadata": {},
   "outputs": [
    {
     "output_type": "execute_result",
     "data": {
      "text/plain": [
       "array([[0., 0., 0.],\n",
       "       [0., 0., 0.],\n",
       "       [0., 0., 0.]])"
      ]
     },
     "metadata": {},
     "execution_count": 6
    }
   ],
   "source": [
    "np.zeros((3, 3))"
   ]
  },
  {
   "source": [
    "**numpy.eye 用于创建一个二维数组，其特点是k 对角线上的值为 1，其余值全部为0。方法如下：**  \n",
    "  \n",
    "numpy.eye(N, M=None, k=0, dtype=<type 'float'>)  \n",
    "- N：输出数组的行数。  \n",
    "- M：输出数组的列数。  \n",
    "- k：对角线索引：0（默认）是指主对角线，正值是指上对角线，负值是指下对角线。"
   ],
   "cell_type": "markdown",
   "metadata": {}
  },
  {
   "cell_type": "code",
   "execution_count": 7,
   "metadata": {},
   "outputs": [
    {
     "output_type": "execute_result",
     "data": {
      "text/plain": [
       "array([[1., 0., 0., 0., 0.],\n",
       "       [0., 1., 0., 0., 0.],\n",
       "       [0., 0., 1., 0., 0.],\n",
       "       [0., 0., 0., 1., 0.],\n",
       "       [0., 0., 0., 0., 1.]])"
      ]
     },
     "metadata": {},
     "execution_count": 7
    }
   ],
   "source": [
    "np.eye(5, 5)"
   ]
  },
  {
   "source": [
    "## 从已知数据创建  \n",
    "- frombuffer（buffer）：将缓冲区转换为 1 维数组。  \n",
    "- fromfile（file，dtype，count，sep）：从文本或二进制文件中构建多维数组。  \n",
    "- fromfunction（function，shape）：通过函数返回值来创建多维数组。  \n",
    "- fromiter（iterable，dtype，count）：从可迭代对象创建 1 维数组。  \n",
    "- fromstring（string，dtype，count，sep）：从字符串中创建 1 维数组。"
   ],
   "cell_type": "markdown",
   "metadata": {}
  },
  {
   "cell_type": "code",
   "execution_count": 8,
   "metadata": {},
   "outputs": [
    {
     "output_type": "execute_result",
     "data": {
      "text/plain": [
       "array([[0., 1., 2., 3.],\n",
       "       [1., 2., 3., 4.],\n",
       "       [2., 3., 4., 5.],\n",
       "       [3., 4., 5., 6.],\n",
       "       [4., 5., 6., 7.]])"
      ]
     },
     "metadata": {},
     "execution_count": 8
    }
   ],
   "source": [
    "np.fromfunction(lambda a, b: a + b, (5, 4))"
   ]
  },
  {
   "source": [
    "## 数组属性"
   ],
   "cell_type": "markdown",
   "metadata": {}
  },
  {
   "cell_type": "code",
   "execution_count": 9,
   "metadata": {},
   "outputs": [
    {
     "output_type": "execute_result",
     "data": {
      "text/plain": [
       "array([[1, 2, 3],\n",
       "       [4, 5, 6],\n",
       "       [7, 8, 9]])"
      ]
     },
     "metadata": {},
     "execution_count": 9
    }
   ],
   "source": [
    "demo = np.array([[1, 2, 3], [4, 5, 6], [7, 8, 9]])\n",
    "demo"
   ]
  },
  {
   "source": [
    "### 数组转置"
   ],
   "cell_type": "markdown",
   "metadata": {}
  },
  {
   "cell_type": "code",
   "execution_count": 10,
   "metadata": {},
   "outputs": [
    {
     "output_type": "execute_result",
     "data": {
      "text/plain": [
       "(array([[1, 4, 7],\n",
       "        [2, 5, 8],\n",
       "        [3, 6, 9]]),\n",
       " array([[1, 4, 7],\n",
       "        [2, 5, 8],\n",
       "        [3, 6, 9]]))"
      ]
     },
     "metadata": {},
     "execution_count": 10
    }
   ],
   "source": [
    "demo.T, demo.transpose()"
   ]
  },
  {
   "source": [
    "### 输出数组包含元素的数据类型"
   ],
   "cell_type": "markdown",
   "metadata": {}
  },
  {
   "cell_type": "code",
   "execution_count": 11,
   "metadata": {},
   "outputs": [
    {
     "output_type": "execute_result",
     "data": {
      "text/plain": [
       "dtype('int32')"
      ]
     },
     "metadata": {},
     "execution_count": 11
    }
   ],
   "source": [
    "demo.dtype"
   ]
  },
  {
   "source": [
    "### 输出数组包含元素的虚部"
   ],
   "cell_type": "markdown",
   "metadata": {}
  },
  {
   "cell_type": "code",
   "execution_count": 12,
   "metadata": {},
   "outputs": [
    {
     "output_type": "execute_result",
     "data": {
      "text/plain": [
       "array([[0, 0, 0],\n",
       "       [0, 0, 0],\n",
       "       [0, 0, 0]])"
      ]
     },
     "metadata": {},
     "execution_count": 12
    }
   ],
   "source": [
    "demo.imag"
   ]
  },
  {
   "source": [
    "### 输出数组包含元素的实部"
   ],
   "cell_type": "markdown",
   "metadata": {}
  },
  {
   "cell_type": "code",
   "execution_count": 13,
   "metadata": {},
   "outputs": [
    {
     "output_type": "execute_result",
     "data": {
      "text/plain": [
       "array([[1, 2, 3],\n",
       "       [4, 5, 6],\n",
       "       [7, 8, 9]])"
      ]
     },
     "metadata": {},
     "execution_count": 13
    }
   ],
   "source": [
    "demo.real"
   ]
  },
  {
   "source": [
    "### 输出数组中的总包含元素数"
   ],
   "cell_type": "markdown",
   "metadata": {}
  },
  {
   "cell_type": "code",
   "execution_count": 14,
   "metadata": {},
   "outputs": [
    {
     "output_type": "execute_result",
     "data": {
      "text/plain": [
       "9"
      ]
     },
     "metadata": {},
     "execution_count": 14
    }
   ],
   "source": [
    "demo.size"
   ]
  },
  {
   "source": [
    "### 输出数组的元素总字节数"
   ],
   "cell_type": "markdown",
   "metadata": {}
  },
  {
   "cell_type": "code",
   "execution_count": 15,
   "metadata": {},
   "outputs": [
    {
     "output_type": "execute_result",
     "data": {
      "text/plain": [
       "36"
      ]
     },
     "metadata": {},
     "execution_count": 15
    }
   ],
   "source": [
    "demo.nbytes"
   ]
  },
  {
   "source": [
    "### 输出数组维度"
   ],
   "cell_type": "markdown",
   "metadata": {}
  },
  {
   "cell_type": "code",
   "execution_count": 16,
   "metadata": {},
   "outputs": [
    {
     "output_type": "execute_result",
     "data": {
      "text/plain": [
       "2"
      ]
     },
     "metadata": {},
     "execution_count": 16
    }
   ],
   "source": [
    "demo.ndim"
   ]
  },
  {
   "source": [
    "### 输出数组形状"
   ],
   "cell_type": "markdown",
   "metadata": {}
  },
  {
   "cell_type": "code",
   "execution_count": 17,
   "metadata": {},
   "outputs": [
    {
     "output_type": "execute_result",
     "data": {
      "text/plain": [
       "(3, 3)"
      ]
     },
     "metadata": {},
     "execution_count": 17
    }
   ],
   "source": [
    "demo.shape"
   ]
  },
  {
   "source": [
    "### 遍历数组时，输出每个维度中步进的字节数组。"
   ],
   "cell_type": "markdown",
   "metadata": {}
  },
  {
   "cell_type": "code",
   "execution_count": 18,
   "metadata": {},
   "outputs": [
    {
     "output_type": "execute_result",
     "data": {
      "text/plain": [
       "(12, 4)"
      ]
     },
     "metadata": {},
     "execution_count": 18
    }
   ],
   "source": [
    "demo.strides"
   ]
  },
  {
   "source": [
    "# 数组基本操作  \n",
    "## 重设形状"
   ],
   "cell_type": "markdown",
   "metadata": {}
  },
  {
   "cell_type": "code",
   "execution_count": 21,
   "metadata": {},
   "outputs": [
    {
     "output_type": "execute_result",
     "data": {
      "text/plain": [
       "(array([0, 1, 2, 3, 4, 5, 6, 7, 8, 9]),\n",
       " array([[0, 1, 2, 3, 4],\n",
       "        [5, 6, 7, 8, 9]]))"
      ]
     },
     "metadata": {},
     "execution_count": 21
    }
   ],
   "source": [
    "demo = np.arange(10)\n",
    "demo, demo.reshape((2, 5))"
   ]
  },
  {
   "source": [
    "## 数组展开  \n",
    "ravel 的目的是将任意形状的数组扁平化，变为 1 维数组。ravel 方法如下：  \n",
    "numpy.ravel(a, order='C')  \n",
    "  \n",
    "其中，a 表示需要处理的数组。order 表示变换时的读取顺序，默认是按照行依次读取，当 order='F' 时，可以按列依次读取排序。"
   ],
   "cell_type": "markdown",
   "metadata": {}
  },
  {
   "cell_type": "code",
   "execution_count": 28,
   "metadata": {},
   "outputs": [
    {
     "output_type": "execute_result",
     "data": {
      "text/plain": [
       "(array([[0, 1],\n",
       "        [2, 3],\n",
       "        [4, 5],\n",
       "        [6, 7],\n",
       "        [8, 9]]),\n",
       " array([0, 2, 4, 6, 8, 1, 3, 5, 7, 9]))"
      ]
     },
     "metadata": {},
     "execution_count": 28
    }
   ],
   "source": [
    "demo = np.arange(10).reshape(5, 2)\n",
    "demo, np.ravel(demo, order='F')"
   ]
  },
  {
   "source": [
    "## 轴移动  \n",
    "moveaxis 可以将数组的轴移动到新的位置。其方法如下：  \n",
    "numpy.moveaxis(a, source, destination)  \n",
    "  \n",
    "+ a：数组。  \n",
    "+ source：要移动的轴的原始位置。  \n",
    "+ destination：要移动的轴的目标位置。"
   ],
   "cell_type": "markdown",
   "metadata": {}
  },
  {
   "cell_type": "code",
   "execution_count": 31,
   "metadata": {},
   "outputs": [
    {
     "output_type": "execute_result",
     "data": {
      "text/plain": [
       "(array([[[1., 1., 1.],\n",
       "         [1., 1., 1.]]]),\n",
       " (1, 2, 3),\n",
       " array([[[1.],\n",
       "         [1.],\n",
       "         [1.]],\n",
       " \n",
       "        [[1.],\n",
       "         [1.],\n",
       "         [1.]]]),\n",
       " (2, 3, 1))"
      ]
     },
     "metadata": {},
     "execution_count": 31
    }
   ],
   "source": [
    "demo = np.ones((1, 2, 3))\n",
    "demo, demo.shape, np.moveaxis(demo, 0, -1), np.moveaxis(demo, 0, -1).shape"
   ]
  },
  {
   "source": [
    "## 轴交换  \n",
    "和 moveaxis 不同的是，swapaxes 可以用来交换数组的轴。其方法如下：  \n",
    "numpy.swapaxes(a, axis1, axis2)  \n",
    "  \n",
    "+ a：数组。  \n",
    "+ axis1：需要交换的轴 1 位置。  \n",
    "+ axis2：需要与轴 1 交换位置的轴 1 位置。"
   ],
   "cell_type": "markdown",
   "metadata": {}
  },
  {
   "cell_type": "code",
   "execution_count": 33,
   "metadata": {},
   "outputs": [
    {
     "output_type": "execute_result",
     "data": {
      "text/plain": [
       "(array([[[1., 1., 1.],\n",
       "         [1., 1., 1.],\n",
       "         [1., 1., 1.],\n",
       "         [1., 1., 1.]]]),\n",
       " (1, 4, 3),\n",
       " array([[[1.],\n",
       "         [1.],\n",
       "         [1.],\n",
       "         [1.]],\n",
       " \n",
       "        [[1.],\n",
       "         [1.],\n",
       "         [1.],\n",
       "         [1.]],\n",
       " \n",
       "        [[1.],\n",
       "         [1.],\n",
       "         [1.],\n",
       "         [1.]]]),\n",
       " (3, 4, 1))"
      ]
     },
     "metadata": {},
     "execution_count": 33
    }
   ],
   "source": [
    "demo = np.ones((1, 4, 3))\n",
    "demo, demo.shape, np.swapaxes(demo, 0, 2), np.swapaxes(demo, 0, 2).shape"
   ]
  },
  {
   "cell_type": "code",
   "execution_count": null,
   "metadata": {},
   "outputs": [],
   "source": []
  }
 ]
}