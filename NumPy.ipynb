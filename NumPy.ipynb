{
 "metadata": {
  "language_info": {
   "codemirror_mode": {
    "name": "ipython",
    "version": 3
   },
   "file_extension": ".py",
   "mimetype": "text/x-python",
   "name": "python",
   "nbconvert_exporter": "python",
   "pygments_lexer": "ipython3",
   "version": "3.7.9-final"
  },
  "orig_nbformat": 2,
  "kernelspec": {
   "name": "python3",
   "display_name": "Python 3",
   "language": "python"
  }
 },
 "nbformat": 4,
 "nbformat_minor": 2,
 "cells": [
  {
   "cell_type": "code",
   "execution_count": 1,
   "metadata": {},
   "outputs": [],
   "source": [
    "import numpy as np"
   ]
  },
  {
   "source": [
    "# 数据类型"
   ],
   "cell_type": "markdown",
   "metadata": {}
  },
  {
   "source": [
    "|类型|解释|\n",
    "|:-:|:-:|\n",
    "|bool|布尔类型，1 个字节，值为 True 或 False。|\n",
    "|int|整数类型，通常为 int64 或 int32 。|\n",
    "|intc|与 C 里的 int 相同，通常为 int32 或 int64。|\n",
    "|intp|用于索引，通常为 int32 或 int64。|\n",
    "|int8|字节（从 -128 到 127）|\n",
    "|int16|整数（从 -32768 到 32767）|\n",
    "|int32|整数（从 -2147483648 到 2147483647）|\n",
    "|int64|整数（从 -9223372036854775808 到 9223372036854775807）|\n",
    "|uint8|无符号整数（从 0 到 255）|\n",
    "|uint16|无符号整数（从 0 到 65535）|\n",
    "|uint32|无符号整数（从 0 到 4294967295）|\n",
    "|uint64|无符号整数（从 0 到 18446744073709551615）|\n",
    "|float|float64 的简写。|\n",
    "|float16|半精度浮点，5 位指数，10 位尾数|\n",
    "|float32|单精度浮点，8 位指数，23 位尾数|\n",
    "|float64|双精度浮点，11 位指数，52 位尾数|\n",
    "|complex|complex128 的简写。|\n",
    "|complex64|复数，由两个 32 位浮点表示。|\n",
    "|complex128|复数，由两个 64 位浮点表示。|"
   ],
   "cell_type": "markdown",
   "metadata": {}
  },
  {
   "source": [
    "# 数组生成  \n",
    "ndarray 类具有六个参数，它们分别为：  \n",
    "+ shape：数组的形状。  \n",
    "+ dtype：数据类型。  \n",
    "+ buffer：对象暴露缓冲区接口。  \n",
    "+ offset：数组数据的偏移量。  \n",
    "+ strides：数据步长。  \n",
    "+ order：{'C'，'F'}，以行或列为主排列顺序。  \n",
    "  \n",
    "**numpy.array(object, dtype=None, copy=True, order=None, subok=False, ndmin=0)**  \n",
    "  \n",
    "object：列表、元组等。  \n",
    "dtype：数据类型。如果未给出，则类型为被保存对象所需的最小类型。  \n",
    "copy：布尔类型，默认 True，表示复制对象。  \n",
    "order：顺序。  \n",
    "subok：布尔类型，表示子类是否被传递。  \n",
    "ndmin：生成的数组应具有的最小维数。"
   ],
   "cell_type": "markdown",
   "metadata": {}
  },
  {
   "cell_type": "code",
   "execution_count": 2,
   "metadata": {},
   "outputs": [
    {
     "output_type": "execute_result",
     "data": {
      "text/plain": [
       "(array([[1, 2, 3],\n",
       "        [4, 5, 6]]),\n",
       " (2, 3),\n",
       " dtype('int32'))"
      ]
     },
     "metadata": {},
     "execution_count": 2
    }
   ],
   "source": [
    "demo = np.array([[1, 2, 3], [4, 5, 6]])\n",
    "demo, demo.shape, demo.dtype\n"
   ]
  },
  {
   "source": [
    "## 创建一系列均匀间隔的值  \n",
    "设置起始，结束，间隔  \n",
    "numpy.arange(start, stop, step, dtype=None)  \n",
    "  \n",
    "设置起始，结束，数量  \n",
    "numpy.linspace(start, stop, num=50, endpoint=True, retstep=False, dtype=None)  \n",
    "* start：序列的起始值。  \n",
    "* stop：序列的结束值。  \n",
    "* num：生成的样本数。默认值为50。  \n",
    "* endpoint：布尔值，如果为真，则最后一个样本包含在序列内。  \n",
    "* retstep：布尔值，如果为真，返回间距。  \n",
    "* dtype：数组的类型。"
   ],
   "cell_type": "markdown",
   "metadata": {}
  },
  {
   "cell_type": "code",
   "execution_count": 3,
   "metadata": {},
   "outputs": [
    {
     "output_type": "execute_result",
     "data": {
      "text/plain": [
       "array([3. , 3.5, 4. , 4.5, 5. , 5.5, 6. , 6.5], dtype=float32)"
      ]
     },
     "metadata": {},
     "execution_count": 3
    }
   ],
   "source": [
    "np.arange(3, 7, 0.5, dtype='float32')"
   ]
  },
  {
   "cell_type": "code",
   "execution_count": 4,
   "metadata": {},
   "outputs": [
    {
     "output_type": "execute_result",
     "data": {
      "text/plain": [
       "array([0., 1., 2., 3., 4., 5., 6., 7., 8., 9.])"
      ]
     },
     "metadata": {},
     "execution_count": 4
    }
   ],
   "source": [
    "np.linspace(0, 10, 10, endpoint=False)"
   ]
  },
  {
   "source": [
    "## 特殊数组生成  \n",
    "**numpy.ones 用于快速创建数值全部为 1 的多维数组。其方法如下：**  \n",
    "  \n",
    "numpy.ones(shape, dtype=None, order='C')  \n",
    "- shape：用于指定数组形状，例如（1， 2）或 3。  \n",
    "- dtype：数据类型。  \n",
    "- order：{'C'，'F'}，按行或列方式储存数组。  \n",
    "  \n",
    "**zeros 方法和上面的 ones 方法非常相似，不同的地方在于，这里全部填充为 0。zeros 方法和 ones 是一致的。**  \n",
    "  \n",
    "numpy.zeros(shape, dtype=None, order='C')"
   ],
   "cell_type": "markdown",
   "metadata": {}
  },
  {
   "cell_type": "code",
   "execution_count": 5,
   "metadata": {},
   "outputs": [
    {
     "output_type": "execute_result",
     "data": {
      "text/plain": [
       "array([[1., 1., 1.],\n",
       "       [1., 1., 1.],\n",
       "       [1., 1., 1.]])"
      ]
     },
     "metadata": {},
     "execution_count": 5
    }
   ],
   "source": [
    "np.ones((3, 3))"
   ]
  },
  {
   "cell_type": "code",
   "execution_count": 6,
   "metadata": {},
   "outputs": [
    {
     "output_type": "execute_result",
     "data": {
      "text/plain": [
       "array([[0., 0., 0.],\n",
       "       [0., 0., 0.],\n",
       "       [0., 0., 0.]])"
      ]
     },
     "metadata": {},
     "execution_count": 6
    }
   ],
   "source": [
    "np.zeros((3, 3))"
   ]
  },
  {
   "source": [
    "**numpy.eye 用于创建一个二维数组，其特点是k 对角线上的值为 1，其余值全部为0。方法如下：**  \n",
    "  \n",
    "numpy.eye(N, M=None, k=0, dtype=<type 'float'>)  \n",
    "- N：输出数组的行数。  \n",
    "- M：输出数组的列数。  \n",
    "- k：对角线索引：0（默认）是指主对角线，正值是指上对角线，负值是指下对角线。"
   ],
   "cell_type": "markdown",
   "metadata": {}
  },
  {
   "cell_type": "code",
   "execution_count": 7,
   "metadata": {},
   "outputs": [
    {
     "output_type": "execute_result",
     "data": {
      "text/plain": [
       "array([[1., 0., 0., 0., 0.],\n",
       "       [0., 1., 0., 0., 0.],\n",
       "       [0., 0., 1., 0., 0.],\n",
       "       [0., 0., 0., 1., 0.],\n",
       "       [0., 0., 0., 0., 1.]])"
      ]
     },
     "metadata": {},
     "execution_count": 7
    }
   ],
   "source": [
    "np.eye(5, 5)"
   ]
  },
  {
   "source": [
    "## 从已知数据创建  \n",
    "- frombuffer（buffer）：将缓冲区转换为 1 维数组。  \n",
    "- fromfile（file，dtype，count，sep）：从文本或二进制文件中构建多维数组。  \n",
    "- fromfunction（function，shape）：通过函数返回值来创建多维数组。  \n",
    "- fromiter（iterable，dtype，count）：从可迭代对象创建 1 维数组。  \n",
    "- fromstring（string，dtype，count，sep）：从字符串中创建 1 维数组。"
   ],
   "cell_type": "markdown",
   "metadata": {}
  },
  {
   "cell_type": "code",
   "execution_count": 8,
   "metadata": {},
   "outputs": [
    {
     "output_type": "execute_result",
     "data": {
      "text/plain": [
       "array([[0., 1., 2., 3.],\n",
       "       [1., 2., 3., 4.],\n",
       "       [2., 3., 4., 5.],\n",
       "       [3., 4., 5., 6.],\n",
       "       [4., 5., 6., 7.]])"
      ]
     },
     "metadata": {},
     "execution_count": 8
    }
   ],
   "source": [
    "np.fromfunction(lambda a, b: a + b, (5, 4))"
   ]
  },
  {
   "source": [
    "## 数组属性"
   ],
   "cell_type": "markdown",
   "metadata": {}
  },
  {
   "cell_type": "code",
   "execution_count": 9,
   "metadata": {},
   "outputs": [
    {
     "output_type": "execute_result",
     "data": {
      "text/plain": [
       "array([[1, 2, 3],\n",
       "       [4, 5, 6],\n",
       "       [7, 8, 9]])"
      ]
     },
     "metadata": {},
     "execution_count": 9
    }
   ],
   "source": [
    "demo = np.array([[1, 2, 3], [4, 5, 6], [7, 8, 9]])\n",
    "demo"
   ]
  },
  {
   "source": [
    "### 数组转置"
   ],
   "cell_type": "markdown",
   "metadata": {}
  },
  {
   "cell_type": "code",
   "execution_count": 10,
   "metadata": {},
   "outputs": [
    {
     "output_type": "execute_result",
     "data": {
      "text/plain": [
       "(array([[1, 4, 7],\n",
       "        [2, 5, 8],\n",
       "        [3, 6, 9]]),\n",
       " array([[1, 4, 7],\n",
       "        [2, 5, 8],\n",
       "        [3, 6, 9]]))"
      ]
     },
     "metadata": {},
     "execution_count": 10
    }
   ],
   "source": [
    "demo.T, demo.transpose()"
   ]
  },
  {
   "source": [
    "### 输出数组包含元素的数据类型"
   ],
   "cell_type": "markdown",
   "metadata": {}
  },
  {
   "cell_type": "code",
   "execution_count": 11,
   "metadata": {},
   "outputs": [
    {
     "output_type": "execute_result",
     "data": {
      "text/plain": [
       "dtype('int32')"
      ]
     },
     "metadata": {},
     "execution_count": 11
    }
   ],
   "source": [
    "demo.dtype"
   ]
  },
  {
   "source": [
    "### 输出数组包含元素的虚部"
   ],
   "cell_type": "markdown",
   "metadata": {}
  },
  {
   "cell_type": "code",
   "execution_count": 12,
   "metadata": {},
   "outputs": [
    {
     "output_type": "execute_result",
     "data": {
      "text/plain": [
       "array([[0, 0, 0],\n",
       "       [0, 0, 0],\n",
       "       [0, 0, 0]])"
      ]
     },
     "metadata": {},
     "execution_count": 12
    }
   ],
   "source": [
    "demo.imag"
   ]
  },
  {
   "source": [
    "### 输出数组包含元素的实部"
   ],
   "cell_type": "markdown",
   "metadata": {}
  },
  {
   "cell_type": "code",
   "execution_count": 13,
   "metadata": {},
   "outputs": [
    {
     "output_type": "execute_result",
     "data": {
      "text/plain": [
       "array([[1, 2, 3],\n",
       "       [4, 5, 6],\n",
       "       [7, 8, 9]])"
      ]
     },
     "metadata": {},
     "execution_count": 13
    }
   ],
   "source": [
    "demo.real"
   ]
  },
  {
   "source": [
    "### 输出数组中的总包含元素数"
   ],
   "cell_type": "markdown",
   "metadata": {}
  },
  {
   "cell_type": "code",
   "execution_count": 14,
   "metadata": {},
   "outputs": [
    {
     "output_type": "execute_result",
     "data": {
      "text/plain": [
       "9"
      ]
     },
     "metadata": {},
     "execution_count": 14
    }
   ],
   "source": [
    "demo.size"
   ]
  },
  {
   "source": [
    "### 输出数组的元素总字节数"
   ],
   "cell_type": "markdown",
   "metadata": {}
  },
  {
   "cell_type": "code",
   "execution_count": 15,
   "metadata": {},
   "outputs": [
    {
     "output_type": "execute_result",
     "data": {
      "text/plain": [
       "36"
      ]
     },
     "metadata": {},
     "execution_count": 15
    }
   ],
   "source": [
    "demo.nbytes"
   ]
  },
  {
   "source": [
    "### 输出数组维度"
   ],
   "cell_type": "markdown",
   "metadata": {}
  },
  {
   "cell_type": "code",
   "execution_count": 16,
   "metadata": {},
   "outputs": [
    {
     "output_type": "execute_result",
     "data": {
      "text/plain": [
       "2"
      ]
     },
     "metadata": {},
     "execution_count": 16
    }
   ],
   "source": [
    "demo.ndim"
   ]
  },
  {
   "source": [
    "### 输出数组形状"
   ],
   "cell_type": "markdown",
   "metadata": {}
  },
  {
   "cell_type": "code",
   "execution_count": 17,
   "metadata": {},
   "outputs": [
    {
     "output_type": "execute_result",
     "data": {
      "text/plain": [
       "(3, 3)"
      ]
     },
     "metadata": {},
     "execution_count": 17
    }
   ],
   "source": [
    "demo.shape"
   ]
  },
  {
   "source": [
    "### 遍历数组时，输出每个维度中步进的字节数组。"
   ],
   "cell_type": "markdown",
   "metadata": {}
  },
  {
   "cell_type": "code",
   "execution_count": 18,
   "metadata": {},
   "outputs": [
    {
     "output_type": "execute_result",
     "data": {
      "text/plain": [
       "(12, 4)"
      ]
     },
     "metadata": {},
     "execution_count": 18
    }
   ],
   "source": [
    "demo.strides"
   ]
  },
  {
   "source": [
    "# 数组基本操作  \n",
    "## 重设形状"
   ],
   "cell_type": "markdown",
   "metadata": {}
  },
  {
   "cell_type": "code",
   "execution_count": 19,
   "metadata": {},
   "outputs": [
    {
     "output_type": "execute_result",
     "data": {
      "text/plain": [
       "(array([0, 1, 2, 3, 4, 5, 6, 7, 8, 9]),\n",
       " array([[0, 1, 2, 3, 4],\n",
       "        [5, 6, 7, 8, 9]]))"
      ]
     },
     "metadata": {},
     "execution_count": 19
    }
   ],
   "source": [
    "demo = np.arange(10)\n",
    "demo, demo.reshape((2, 5))"
   ]
  },
  {
   "source": [
    "## 数组展开  \n",
    "ravel 的目的是将任意形状的数组扁平化，变为 1 维数组。ravel 方法如下：  \n",
    "numpy.ravel(a, order='C')  \n",
    "  \n",
    "其中，a 表示需要处理的数组。order 表示变换时的读取顺序，默认是按照行依次读取，当 order='F' 时，可以按列依次读取排序。"
   ],
   "cell_type": "markdown",
   "metadata": {}
  },
  {
   "cell_type": "code",
   "execution_count": 20,
   "metadata": {},
   "outputs": [
    {
     "output_type": "execute_result",
     "data": {
      "text/plain": [
       "(array([[0, 1],\n",
       "        [2, 3],\n",
       "        [4, 5],\n",
       "        [6, 7],\n",
       "        [8, 9]]),\n",
       " array([0, 2, 4, 6, 8, 1, 3, 5, 7, 9]))"
      ]
     },
     "metadata": {},
     "execution_count": 20
    }
   ],
   "source": [
    "demo = np.arange(10).reshape(5, 2)\n",
    "demo, np.ravel(demo, order='F')"
   ]
  },
  {
   "source": [
    "## 轴移动  \n",
    "moveaxis 可以将数组的轴移动到新的位置。其方法如下：  \n",
    "numpy.moveaxis(a, source, destination)  \n",
    "  \n",
    "+ a：数组。  \n",
    "+ source：要移动的轴的原始位置。  \n",
    "+ destination：要移动的轴的目标位置。"
   ],
   "cell_type": "markdown",
   "metadata": {}
  },
  {
   "cell_type": "code",
   "execution_count": 21,
   "metadata": {},
   "outputs": [
    {
     "output_type": "execute_result",
     "data": {
      "text/plain": [
       "(array([[[1., 1., 1.],\n",
       "         [1., 1., 1.]]]),\n",
       " (1, 2, 3),\n",
       " array([[[1.],\n",
       "         [1.],\n",
       "         [1.]],\n",
       " \n",
       "        [[1.],\n",
       "         [1.],\n",
       "         [1.]]]),\n",
       " (2, 3, 1))"
      ]
     },
     "metadata": {},
     "execution_count": 21
    }
   ],
   "source": [
    "demo = np.ones((1, 2, 3))\n",
    "demo, demo.shape, np.moveaxis(demo, 0, -1), np.moveaxis(demo, 0, -1).shape"
   ]
  },
  {
   "source": [
    "## 轴交换  \n",
    "和 moveaxis 不同的是，swapaxes 可以用来交换数组的轴。其方法如下：  \n",
    "numpy.swapaxes(a, axis1, axis2)  \n",
    "  \n",
    "+ a：数组。  \n",
    "+ axis1：需要交换的轴 1 位置。  \n",
    "+ axis2：需要与轴 1 交换位置的轴 1 位置。"
   ],
   "cell_type": "markdown",
   "metadata": {}
  },
  {
   "cell_type": "code",
   "execution_count": 22,
   "metadata": {},
   "outputs": [
    {
     "output_type": "execute_result",
     "data": {
      "text/plain": [
       "(array([[[1., 1., 1.],\n",
       "         [1., 1., 1.],\n",
       "         [1., 1., 1.],\n",
       "         [1., 1., 1.]]]),\n",
       " (1, 4, 3),\n",
       " array([[[1.],\n",
       "         [1.],\n",
       "         [1.],\n",
       "         [1.]],\n",
       " \n",
       "        [[1.],\n",
       "         [1.],\n",
       "         [1.],\n",
       "         [1.]],\n",
       " \n",
       "        [[1.],\n",
       "         [1.],\n",
       "         [1.],\n",
       "         [1.]]]),\n",
       " (3, 4, 1))"
      ]
     },
     "metadata": {},
     "execution_count": 22
    }
   ],
   "source": [
    "demo = np.ones((1, 4, 3))\n",
    "demo, demo.shape, np.swapaxes(demo, 0, 2), np.swapaxes(demo, 0, 2).shape"
   ]
  },
  {
   "source": [
    "## 维度改变  \n",
    "atleast_xd 支持将输入数据直接视为 x维。这里的 x 可以表示：1，2，3。方法分别为：  \n",
    "numpy.atleast_1d()  \n",
    "numpy.atleast_2d()  \n",
    "numpy.atleast_3d()"
   ],
   "cell_type": "markdown",
   "metadata": {}
  },
  {
   "cell_type": "code",
   "execution_count": 23,
   "metadata": {},
   "outputs": [
    {
     "output_type": "execute_result",
     "data": {
      "text/plain": [
       "(array([1, 2, 3]),\n",
       " array([[4, 5, 6]]),\n",
       " array([[[7],\n",
       "         [8],\n",
       "         [9]]]))"
      ]
     },
     "metadata": {},
     "execution_count": 23
    }
   ],
   "source": [
    "np.atleast_1d([1, 2, 3]), np.atleast_2d([4, 5, 6]), np.atleast_3d([7, 8, 9])"
   ]
  },
  {
   "source": [
    "## 类型转换  \n",
    "+ asarray(a，dtype，order)：将特定输入转换为数组。  \n",
    "+ asanyarray(a，dtype，order)：将特定输入转换为 ndarray。  \n",
    "+ asmatrix(data，dtype)：将特定输入转换为矩阵。  \n",
    "+ asfarray(a，dtype)：将特定输入转换为 float 类型的数组。  \n",
    "+ asarray_chkfinite(a，dtype，order)：将特定输入转换为数组，检查 NaN 或 infs。  \n",
    "+ asscalar(a)：将大小为 1 的数组转换为标量。"
   ],
   "cell_type": "markdown",
   "metadata": {}
  },
  {
   "cell_type": "code",
   "execution_count": 24,
   "metadata": {},
   "outputs": [
    {
     "output_type": "execute_result",
     "data": {
      "text/plain": [
       "(array([[0, 1],\n",
       "        [2, 3]]),\n",
       " matrix([[0, 1],\n",
       "         [2, 3]]))"
      ]
     },
     "metadata": {},
     "execution_count": 24
    }
   ],
   "source": [
    "demo = np.arange(4).reshape((2, 2))\n",
    "demo, np.asmatrix(demo)"
   ]
  },
  {
   "source": [
    "## 数组连接  \n",
    "concatenate 可以将多个数组沿指定轴连接在一起。其方法为：  \n",
    "numpy.concatenate((a1, a2, ...), axis=0)  \n",
    "  \n",
    "* (a1, a2, ...)：需要连接的数组。  \n",
    "* axis：指定连接轴。"
   ],
   "cell_type": "markdown",
   "metadata": {}
  },
  {
   "cell_type": "code",
   "execution_count": 25,
   "metadata": {},
   "outputs": [
    {
     "output_type": "execute_result",
     "data": {
      "text/plain": [
       "array([[ 1,  2],\n",
       "       [ 3,  4],\n",
       "       [ 5,  6],\n",
       "       [ 7,  8],\n",
       "       [ 9, 10],\n",
       "       [11, 12]])"
      ]
     },
     "metadata": {},
     "execution_count": 25
    }
   ],
   "source": [
    "demo1 = np.array([[1, 2], [3, 4], [5, 6]])\n",
    "demo2 = np.array([[7, 8], [9, 10]])\n",
    "demo3 = np.array([[11, 12]])\n",
    "np.concatenate((demo1, demo2, demo3), axis=0)"
   ]
  },
  {
   "source": [
    "可以尝试沿着横轴连接。但要保证连接处的维数一致，所以这里用到了 .T 转置。"
   ],
   "cell_type": "markdown",
   "metadata": {}
  },
  {
   "cell_type": "code",
   "execution_count": 26,
   "metadata": {},
   "outputs": [
    {
     "output_type": "execute_result",
     "data": {
      "text/plain": [
       "array([[1, 2, 7],\n",
       "       [3, 4, 8],\n",
       "       [5, 6, 9]])"
      ]
     },
     "metadata": {},
     "execution_count": 26
    }
   ],
   "source": [
    "demo1 = np.array([[1, 2], [3, 4], [5, 6]])\n",
    "demo2 = np.array([[7, 8, 9]])\n",
    "np.concatenate((demo1, demo2.T), axis=1)"
   ]
  },
  {
   "source": [
    "## 数组堆叠  \n",
    "* stack(arrays，axis)：沿着新轴连接数组的序列。  \n",
    "* column_stack()：将 1 维数组作为列堆叠到 2 维数组中。  \n",
    "* hstack()：按水平方向堆叠数组。  \n",
    "* vstack()：按垂直方向堆叠数组。  \n",
    "* dstack()：按深度方向堆叠数组。"
   ],
   "cell_type": "markdown",
   "metadata": {}
  },
  {
   "cell_type": "code",
   "execution_count": 27,
   "metadata": {},
   "outputs": [
    {
     "output_type": "execute_result",
     "data": {
      "text/plain": [
       "(array([[1, 2, 3],\n",
       "        [4, 5, 6]]),\n",
       " array([[1, 4],\n",
       "        [2, 5],\n",
       "        [3, 6]]))"
      ]
     },
     "metadata": {},
     "execution_count": 27
    }
   ],
   "source": [
    "demo1 = np.array([1, 2, 3])\n",
    "demo2 = np.array([4, 5, 6])\n",
    "np.stack((demo1, demo2)), np.stack((demo1, demo2), axis=-1)"
   ]
  },
  {
   "source": [
    "## 拆分  \n",
    "* split(ary，indices_or_sections，axis)：将数组拆分为多个子数组。  \n",
    "* dsplit(ary，indices_or_sections)：按深度方向将数组拆分成多个子数组。  \n",
    "* hsplit(ary，indices_or_sections)：按水平方向将数组拆分成多个子数组。  \n",
    "* vsplit(ary，indices_or_sections)：按垂直方向将数组拆分成多个子数组。"
   ],
   "cell_type": "markdown",
   "metadata": {}
  },
  {
   "cell_type": "code",
   "execution_count": 28,
   "metadata": {},
   "outputs": [
    {
     "output_type": "execute_result",
     "data": {
      "text/plain": [
       "[array([0, 1]), array([2, 3]), array([4, 5]), array([6, 7]), array([8, 9])]"
      ]
     },
     "metadata": {},
     "execution_count": 28
    }
   ],
   "source": [
    "demo = np.arange(10)\n",
    "np.split(demo, 5)"
   ]
  },
  {
   "source": [
    "## 删除  \n",
    "delete(arr，obj，axis)：沿特定轴删除数组中的子数组。"
   ],
   "cell_type": "markdown",
   "metadata": {}
  },
  {
   "cell_type": "code",
   "execution_count": 29,
   "metadata": {},
   "outputs": [
    {
     "output_type": "execute_result",
     "data": {
      "text/plain": [
       "(array([[ 0,  1,  2,  3],\n",
       "        [ 4,  5,  6,  7],\n",
       "        [ 8,  9, 10, 11]]),\n",
       " array([[ 0,  1,  3],\n",
       "        [ 4,  5,  7],\n",
       "        [ 8,  9, 11]]))"
      ]
     },
     "metadata": {},
     "execution_count": 29
    }
   ],
   "source": [
    "demo = np.arange(12).reshape(3, 4)\n",
    "demo, np.delete(demo, 2, 1)"
   ]
  },
  {
   "source": [
    "## 数组插入  \n",
    "insert(arr，obj，values，axis)：依据索引在特定轴之前插入值。"
   ],
   "cell_type": "markdown",
   "metadata": {}
  },
  {
   "cell_type": "code",
   "execution_count": 30,
   "metadata": {},
   "outputs": [
    {
     "output_type": "execute_result",
     "data": {
      "text/plain": [
       "array([[ 0,  1,  2,  3],\n",
       "       [ 4,  5,  6,  7],\n",
       "       [ 0,  1,  2,  3],\n",
       "       [ 8,  9, 10, 11]])"
      ]
     },
     "metadata": {},
     "execution_count": 30
    }
   ],
   "source": [
    "demo1 = np.arange(12).reshape(3, 4)\n",
    "demo2 = np.arange(4)\n",
    "np.insert(demo1, 2, demo2, 0)"
   ]
  },
  {
   "source": [
    "## 附加  \n",
    "append(arr，values，axis)：将值附加到数组的末尾，并返回 1 维数组。"
   ],
   "cell_type": "markdown",
   "metadata": {}
  },
  {
   "cell_type": "code",
   "execution_count": 31,
   "metadata": {},
   "outputs": [
    {
     "output_type": "execute_result",
     "data": {
      "text/plain": [
       "(array([[0, 1, 2],\n",
       "        [3, 4, 5]]),\n",
       " array([0, 1, 2]),\n",
       " array([0, 1, 2, 3, 4, 5, 0, 1, 2]))"
      ]
     },
     "metadata": {},
     "execution_count": 31
    }
   ],
   "source": [
    "demo1 = np.arange(6).reshape(2, 3)\n",
    "demo2 = np.arange(3)\n",
    "demo1, demo2, np.append(demo1, demo2)"
   ]
  },
  {
   "source": [
    "## 重设尺寸  \n",
    "resize(a，new_shape)：对数组尺寸进行重新设定。  \n",
    "  \n",
    "*reshape 在改变形状时，不会影响原数组，相当于对原数组做了一份拷贝。而 resize 则是对原数组执行操作。*"
   ],
   "cell_type": "markdown",
   "metadata": {}
  },
  {
   "cell_type": "code",
   "execution_count": 32,
   "metadata": {},
   "outputs": [
    {
     "output_type": "execute_result",
     "data": {
      "text/plain": [
       "array([[0, 1, 2, 3, 4],\n",
       "       [5, 6, 7, 8, 9]])"
      ]
     },
     "metadata": {},
     "execution_count": 32
    }
   ],
   "source": [
    "demo = np.arange(10)\n",
    "demo.resize(2, 5)\n",
    "demo"
   ]
  },
  {
   "source": [
    "## 翻转数组  \n",
    "* fliplr(m)：左右翻转数组。  \n",
    "* flipud(m)：上下翻转数组。"
   ],
   "cell_type": "markdown",
   "metadata": {}
  },
  {
   "cell_type": "code",
   "execution_count": 33,
   "metadata": {},
   "outputs": [
    {
     "output_type": "execute_result",
     "data": {
      "text/plain": [
       "(array([[0, 1, 2],\n",
       "        [3, 4, 5],\n",
       "        [6, 7, 8]]),\n",
       " array([[2, 1, 0],\n",
       "        [5, 4, 3],\n",
       "        [8, 7, 6]]),\n",
       " array([[6, 7, 8],\n",
       "        [3, 4, 5],\n",
       "        [0, 1, 2]]))"
      ]
     },
     "metadata": {},
     "execution_count": 33
    }
   ],
   "source": [
    "demo = np.arange(9).reshape(3, 3)\n",
    "demo, np.fliplr(demo), np.flipud(demo)"
   ]
  },
  {
   "source": [
    "## NumPy 随机数  \n",
    "numpy.random.rand(d0, d1, ..., dn)：指定一个数组，并使用 [0, 1) 区间随机数据填充，这些数据均匀分布。"
   ],
   "cell_type": "markdown",
   "metadata": {}
  },
  {
   "cell_type": "code",
   "execution_count": 34,
   "metadata": {},
   "outputs": [
    {
     "output_type": "execute_result",
     "data": {
      "text/plain": [
       "array([[0.6513672 , 0.52781785, 0.10791755, 0.1321566 , 0.26838457],\n",
       "       [0.99358208, 0.46343937, 0.95349303, 0.89577157, 0.46440936]])"
      ]
     },
     "metadata": {},
     "execution_count": 34
    }
   ],
   "source": [
    "np.random.rand(2, 5)"
   ]
  },
  {
   "source": [
    "numpy.random.randn(d0, d1, ..., dn)：从标准正态分布中返回一个或多个样本值。"
   ],
   "cell_type": "markdown",
   "metadata": {}
  },
  {
   "cell_type": "code",
   "execution_count": 35,
   "metadata": {},
   "outputs": [
    {
     "output_type": "execute_result",
     "data": {
      "text/plain": [
       "array([[ 0.31139024,  0.50258523, -0.11697193,  2.50574865, -1.17740451,\n",
       "        -0.40342896, -0.84467368,  1.42308693, -1.0190145 , -2.0750146 ]])"
      ]
     },
     "metadata": {},
     "execution_count": 35
    }
   ],
   "source": [
    "np.random.randn(1, 10)"
   ]
  },
  {
   "source": [
    "randint(low, high, size, dtype)：生成 [low, high) 的随机整数。"
   ],
   "cell_type": "markdown",
   "metadata": {}
  },
  {
   "cell_type": "code",
   "execution_count": 36,
   "metadata": {},
   "outputs": [
    {
     "output_type": "execute_result",
     "data": {
      "text/plain": [
       "array([2, 4, 3, 3, 4, 3, 2, 2, 2, 4])"
      ]
     },
     "metadata": {},
     "execution_count": 36
    }
   ],
   "source": [
    "np.random.randint(2, 5, 10)"
   ]
  },
  {
   "source": [
    "random_sample(size)：在 [0, 1) 区间内生成指定 size 的随机浮点数。  \n",
    "  \n",
    "与 numpy.random.random_sample 类似的方法还有：  \n",
    "* numpy.random.random(\\[size])  \n",
    "* numpy.random.ranf(\\[size])  \n",
    "* numpy.random.sample(\\[size])"
   ],
   "cell_type": "markdown",
   "metadata": {}
  },
  {
   "cell_type": "code",
   "execution_count": 37,
   "metadata": {},
   "outputs": [
    {
     "output_type": "execute_result",
     "data": {
      "text/plain": [
       "array([0.44728317, 0.27198233, 0.77374847, 0.89848908, 0.05425053,\n",
       "       0.34931227, 0.96390144, 0.47219885, 0.89241342, 0.41473583])"
      ]
     },
     "metadata": {},
     "execution_count": 37
    }
   ],
   "source": [
    "np.random.random_sample([10])"
   ]
  },
  {
   "source": [
    "choice(a, size, replace, p)：在给定的数组里随机抽取几个值，该方法类似于随机抽样。"
   ],
   "cell_type": "markdown",
   "metadata": {}
  },
  {
   "cell_type": "code",
   "execution_count": 38,
   "metadata": {},
   "outputs": [
    {
     "output_type": "execute_result",
     "data": {
      "text/plain": [
       "array([8, 3, 1, 8, 7])"
      ]
     },
     "metadata": {},
     "execution_count": 38
    }
   ],
   "source": [
    "np.random.choice(10, 5)"
   ]
  },
  {
   "source": [
    "## 概率密度分布  \n",
    "* numpy.random.beta(a，b，size)：从 Beta 分布中生成随机数。  \n",
    "* numpy.random.binomial(n, p, size)：从二项分布中生成随机数。  \n",
    "* numpy.random.chisquare(df，size)：从卡方分布中生成随机数。  \n",
    "* numpy.random.dirichlet(alpha，size)：从 Dirichlet 分布中生成随机数。  \n",
    "* numpy.random.exponential(scale，size)：从指数分布中生成随机数。  \n",
    "* numpy.random.f(dfnum，dfden，size)：从 F 分布中生成随机数。  \n",
    "* numpy.random.gamma(shape，scale，size)：从 Gamma 分布中生成随机数。  \n",
    "* numpy.random.geometric(p，size)：从几何分布中生成随机数。  \n",
    "* numpy.random.gumbel(loc，scale，size)：从 Gumbel 分布中生成随机数。  \n",
    "* numpy.random.hypergeometric(ngood, nbad, nsample, size)：从超几何分布中生成随机数。  \n",
    "* numpy.random.laplace(loc，scale，size)：从拉普拉斯双指数分布中生成随机数。  \n",
    "* numpy.random.logistic(loc，scale，size)：从逻辑分布中生成随机数。  \n",
    "* numpy.random.lognormal(mean，sigma，size)：从对数正态分布中生成随机数。  \n",
    "* numpy.random.logseries(p，size)：从对数系列分布中生成随机数。  \n",
    "* numpy.random.multinomial(n，pvals，size)：从多项分布中生成随机数。  \n",
    "* numpy.random.multivariate_normal(mean, cov, size)：从多变量正态分布绘制随机样本。  \n",
    "* numpy.random.negative_binomial(n, p, size)：从负二项分布中生成随机数。  \n",
    "* numpy.random.noncentral_chisquare(df，nonc，size)：从非中心卡方分布中生成随机数。  \n",
    "* numpy.random.noncentral_f(dfnum, dfden, nonc, size)：从非中心 F 分布中抽取样本。  \n",
    "* numpy.random.normal(loc，scale，size)：从正态分布绘制随机样本。  \n",
    "* numpy.random.pareto(a，size)：从具有指定形状的 Pareto II 或 Lomax 分布中生成随机数。  \n",
    "* numpy.random.poisson(lam，size)：从泊松分布中生成随机数。  \n",
    "* numpy.random.power(a，size)：从具有正指数 a-1 的功率分布中在 0，1 中生成随机数。  \n",
    "* numpy.random.rayleigh(scale，size)：从瑞利分布中生成随机数。  \n",
    "* numpy.random.standard_cauchy(size)：从标准 Cauchy 分布中生成随机数。  \n",
    "* numpy.random.standard_exponential(size)：从标准指数分布中生成随机数。  \n",
    "* numpy.random.standard_gamma(shape，size)：从标准 Gamma 分布中生成随机数。  \n",
    "* numpy.random.standard_normal(size)：从标准正态分布中生成随机数。  \n",
    "* numpy.random.standard_t(df，size)：从具有 df 自由度的标准学生 t 分布中生成随机数。  \n",
    "* numpy.random.triangular(left，mode，right，size)：从三角分布中生成随机数。  \n",
    "* numpy.random.uniform(low，high，size)：从均匀分布中生成随机数。  \n",
    "* numpy.random.vonmises(mu，kappa，size)：从 von Mises 分布中生成随机数。  \n",
    "* numpy.random.wald(mean，scale，size)：从 Wald 或反高斯分布中生成随机数。  \n",
    "* numpy.random.weibull(a，size)：从威布尔分布中生成随机数。  \n",
    "* numpy.random.zipf(a，size)：从 Zipf 分布中生成随机数。"
   ],
   "cell_type": "markdown",
   "metadata": {}
  },
  {
   "source": [
    "# 数学函数  \n",
    "## 三角函数  \n",
    "* numpy.sin(x)：三角正弦。  \n",
    "* numpy.cos(x)：三角余弦。  \n",
    "* numpy.tan(x)：三角正切。  \n",
    "* numpy.arcsin(x)：三角反正弦。  \n",
    "* numpy.arccos(x)：三角反余弦。  \n",
    "* numpy.arctan(x)：三角反正切。  \n",
    "* numpy.hypot(x1,x2)：直角三角形求斜边。  \n",
    "* numpy.degrees(x)：弧度转换为度。  \n",
    "* numpy.radians(x)：度转换为弧度。  \n",
    "* numpy.deg2rad(x)：度转换为弧度。  \n",
    "* numpy.rad2deg(x)：弧度转换为度。"
   ],
   "cell_type": "markdown",
   "metadata": {}
  },
  {
   "cell_type": "code",
   "execution_count": 39,
   "metadata": {},
   "outputs": [
    {
     "output_type": "execute_result",
     "data": {
      "text/plain": [
       "(180.0, 3.141592653589793)"
      ]
     },
     "metadata": {},
     "execution_count": 39
    }
   ],
   "source": [
    "np.rad2deg(np.pi), np.deg2rad(180)"
   ]
  },
  {
   "source": [
    "## 双曲函数  \n",
    "* numpy.sinh(x)：双曲正弦。  \n",
    "* numpy.cosh(x)：双曲余弦。  \n",
    "* numpy.tanh(x)：双曲正切。  \n",
    "* numpy.arcsinh(x)：反双曲正弦。  \n",
    "* numpy.arccosh(x)：反双曲余弦。  \n",
    "* numpy.arctanh(x)：反双曲正切。  \n",
    "## 数值修约  \n",
    "* numpy.around(a)：平均到给定的小数位数。  \n",
    "* numpy.round_(a)：将数组舍入到给定的小数位数。  \n",
    "* numpy.rint(x)：修约到最接近的整数。  \n",
    "* numpy.fix(x, y)：向 0 舍入到最接近的整数。  \n",
    "* numpy.floor(x)：返回输入的底部(标量 x 的底部是最大的整数 i)。  \n",
    "* numpy.ceil(x)：返回输入的上限(标量 x 的底部是最小的整数 i)。  \n",
    "* numpy.trunc(x)：返回输入的截断值。"
   ],
   "cell_type": "markdown",
   "metadata": {}
  },
  {
   "cell_type": "code",
   "execution_count": 40,
   "metadata": {},
   "outputs": [
    {
     "output_type": "execute_result",
     "data": {
      "text/plain": [
       "(array([0.8474565 , 0.43852818, 0.26383249]), array([1., 0., 0.]))"
      ]
     },
     "metadata": {},
     "execution_count": 40
    }
   ],
   "source": [
    "demo = np.random.rand(3)\n",
    "demo, np.rint(demo)"
   ]
  },
  {
   "source": [
    "## 求和、求积、差分  \n",
    "* numpy.prod(a, axis, dtype, keepdims)：返回指定轴上的数组元素的乘积。  \n",
    "* numpy.sum(a, axis, dtype, keepdims)：返回指定轴上的数组元素的总和。  \n",
    "* numpy.nanprod(a, axis, dtype, keepdims)：返回指定轴上的数组元素的乘积, 将 NaN 视作 1。  \n",
    "* numpy.nansum(a, axis, dtype, keepdims)：返回指定轴上的数组元素的总和, 将 NaN 视作 0。  \n",
    "* numpy.cumprod(a, axis, dtype)：返回沿给定轴的元素的累积乘积。  \n",
    "* numpy.cumsum(a, axis, dtype)：返回沿给定轴的元素的累积总和。  \n",
    "* numpy.nancumprod(a, axis, dtype)：返回沿给定轴的元素的累积乘积, 将 NaN 视作 1。  \n",
    "* numpy.nancumsum(a, axis, dtype)：返回沿给定轴的元素的累积总和, 将 NaN 视作 0。  \n",
    "* numpy.diff(a, n, axis)：计算沿指定轴的第 n 个离散差分。  \n",
    "* numpy.ediff1d(ary, to_end, to_begin)：数组的连续元素之间的差异。  \n",
    "* numpy.gradient(f)：返回 N 维数组的梯度。  \n",
    "* numpy.cross(a, b, axisa, axisb, axisc, axis)：返回两个(数组）向量的叉积。  \n",
    "* numpy.trapz(y, x, dx, axis)：使用复合梯形规则沿给定轴积分。"
   ],
   "cell_type": "markdown",
   "metadata": {}
  },
  {
   "cell_type": "code",
   "execution_count": 41,
   "metadata": {},
   "outputs": [
    {
     "output_type": "execute_result",
     "data": {
      "text/plain": [
       "(array([0, 1, 2, 3, 4, 5, 6, 7, 8, 9]), 45)"
      ]
     },
     "metadata": {},
     "execution_count": 41
    }
   ],
   "source": [
    "demo = np.arange(10)\n",
    "demo, np.sum(demo)"
   ]
  },
  {
   "source": [
    "## 指数和对数  \n",
    "* numpy.exp(x)：计算输入数组中所有元素的指数。  \n",
    "* numpy.log(x)：计算自然对数。  \n",
    "* numpy.log10(x)：计算常用对数。  \n",
    "* numpy.log2(x)：计算二进制对数。  \n",
    "## 算术运算  \n",
    "* numpy.add(x1, x2)：对应元素相加。  \n",
    "* numpy.reciprocal(x)：求倒数 1/x。  \n",
    "* numpy.negative(x)：求对应负数。  \n",
    "* numpy.multiply(x1, x2)：求解乘法。  \n",
    "* numpy.divide(x1, x2)：相除 x1/x2。  \n",
    "* numpy.power(x1, x2)：类似于 x1^x2。  \n",
    "* numpy.subtract(x1, x2)：减法。  \n",
    "* numpy.fmod(x1, x2)：返回除法的元素余项。  \n",
    "* numpy.mod(x1, x2)：返回余项。  \n",
    "* numpy.modf(x1)：返回数组的小数和整数部分。  \n",
    "* numpy.remainder(x1, x2)：返回除法余数。  \n",
    "## 矩阵和向量积  \n",
    "* numpy.dot(a, b)：求解两个数组的点积。  \n",
    "* numpy.vdot(a, b)：求解两个向量的点积。  \n",
    "* numpy.inner(a, b)：求解两个数组的内积。  \n",
    "* numpy.outer(a, b)：求解两个向量的外积。  \n",
    "* numpy.matmul(a, b)：求解两个数组的矩阵乘积。  \n",
    "* numpy.tensordot(a, b)：求解张量点积。  \n",
    "* numpy.kron(a, b)：计算 Kronecker 乘积。  \n",
    "## 其他类别  \n",
    "* numpy.angle(z, deg)：返回复参数的角度。  \n",
    "* numpy.real(val)：返回数组元素的实部。  \n",
    "* numpy.imag(val)：返回数组元素的虚部。  \n",
    "* numpy.conj(x)：按元素方式返回共轭复数。  \n",
    "* numpy.convolve(a, v, mode)：返回线性卷积。  \n",
    "* numpy.sqrt(x)：平方根。  \n",
    "* numpy.cbrt(x)：立方根。  \n",
    "* numpy.square(x)：平方。  \n",
    "* numpy.absolute(x)：绝对值, 可求解复数。  \n",
    "* numpy.fabs(x)：绝对值。  \n",
    "* numpy.sign(x)：符号函数。  \n",
    "* numpy.maximum(x1, x2)：最大值。  \n",
    "* numpy.minimum(x1, x2)：最小值。  \n",
    "* numpy.nan_to_num(x)：用 0 替换 NaN。  \n",
    "* numpy.interp(x, xp, fp, left, right, period)：线性插值。  \n",
    "## 代数运算  \n",
    "* numpy.linalg.cholesky(a)：Cholesky 分解。  \n",
    "* numpy.linalg.qr(a ,mode)：计算矩阵的 QR 因式分解。  \n",
    "* numpy.linalg.svd(a ,full_matrices,compute_uv)：奇异值分解。  \n",
    "* numpy.linalg.eig(a)：计算正方形数组的特征值和右特征向量。  \n",
    "* numpy.linalg.eigh(a, UPLO)：返回 Hermitian 或对称矩阵的特征值和特征向量。  \n",
    "* numpy.linalg.eigvals(a)：计算矩阵的特征值。  \n",
    "* numpy.linalg.eigvalsh(a, UPLO)：计算 Hermitian 或真实对称矩阵的特征值。  \n",
    "* numpy.linalg.norm(x ,ord,axis,keepdims)：计算矩阵或向量范数。  \n",
    "* numpy.linalg.cond(x ,p)：计算矩阵的条件数。  \n",
    "* numpy.linalg.det(a)：计算数组的行列式。  \n",
    "* numpy.linalg.matrix_rank(M ,tol)：使用奇异值分解方法返回秩。  \n",
    "* numpy.linalg.slogdet(a)：计算数组的行列式的符号和自然对数。  \n",
    "* numpy.trace(a ,offset,axis1,axis2,dtype,out)：沿数组的对角线返回总和。  \n",
    "* numpy.linalg.solve(a, b)：求解线性矩阵方程或线性标量方程组。  \n",
    "* numpy.linalg.tensorsolve(a, b ,axes)：为 x 解出张量方程 a x = b  \n",
    "* numpy.linalg.lstsq(a, b ,rcond)：将最小二乘解返回到线性矩阵方程。  \n",
    "* numpy.linalg.inv(a)：计算逆矩阵。  \n",
    "* numpy.linalg.pinv(a ,rcond)：计算矩阵的（Moore-Penrose）伪逆。  \n",
    "* numpy.linalg.tensorinv(a ,ind)：计算 N 维数组的逆。  \n",
    "# 数组索引和切片  \n",
    "## 数组索引  \n",
    "### 一维数组"
   ],
   "cell_type": "markdown",
   "metadata": {}
  },
  {
   "cell_type": "code",
   "execution_count": 42,
   "metadata": {},
   "outputs": [
    {
     "output_type": "execute_result",
     "data": {
      "text/plain": [
       "(array([0, 1, 2, 3, 4, 5, 6, 7, 8, 9]), 1, array([1, 2, 3]))"
      ]
     },
     "metadata": {},
     "execution_count": 42
    }
   ],
   "source": [
    "demo = np.arange(10)\n",
    "demo, demo[1], demo[[1, 2, 3]]"
   ]
  },
  {
   "source": [
    "### 二维数组"
   ],
   "cell_type": "markdown",
   "metadata": {}
  },
  {
   "cell_type": "code",
   "execution_count": 43,
   "metadata": {},
   "outputs": [
    {
     "output_type": "execute_result",
     "data": {
      "text/plain": [
       "(array([[ 0,  1,  2,  3,  4],\n",
       "        [ 5,  6,  7,  8,  9],\n",
       "        [10, 11, 12, 13, 14],\n",
       "        [15, 16, 17, 18, 19]]),\n",
       " array([5, 6, 7, 8, 9]),\n",
       " 7,\n",
       " array([ 6, 18]))"
      ]
     },
     "metadata": {},
     "execution_count": 43
    }
   ],
   "source": [
    "demo = np.arange(20).reshape(4, 5)\n",
    "demo, demo[1], demo[1, 2], demo[[1, 3], [1, 3]]"
   ]
  },
  {
   "source": [
    "需要注意索引的对应关系，实际获取的是 \\[1, 1]，也就是第 2 行和第 2 列对于的值 6。以及 \\[3, 3]，也就是第 4 行和第 4 列对应的值 18。\n",
    "### 三维数组"
   ],
   "cell_type": "markdown",
   "metadata": {}
  },
  {
   "cell_type": "code",
   "execution_count": 44,
   "metadata": {},
   "outputs": [
    {
     "output_type": "execute_result",
     "data": {
      "text/plain": [
       "(array([[[ 0,  1,  2],\n",
       "         [ 3,  4,  5],\n",
       "         [ 6,  7,  8],\n",
       "         [ 9, 10, 11],\n",
       "         [12, 13, 14]],\n",
       " \n",
       "        [[15, 16, 17],\n",
       "         [18, 19, 20],\n",
       "         [21, 22, 23],\n",
       "         [24, 25, 26],\n",
       "         [27, 28, 29]]]),\n",
       " array([[15, 16, 17],\n",
       "        [18, 19, 20],\n",
       "        [21, 22, 23],\n",
       "        [24, 25, 26],\n",
       "        [27, 28, 29]]),\n",
       " array([18, 19, 20]),\n",
       " 19,\n",
       " array([ 4, 25]))"
      ]
     },
     "metadata": {},
     "execution_count": 44
    }
   ],
   "source": [
    "demo = np.arange(30).reshape(2, 5, 3)\n",
    "demo, demo[1], demo[1, 1], demo[1, 1, 1], demo[[0, 1], [1, 3], [1, 1]]"
   ]
  },
  {
   "source": [
    "## 数组切片  \n",
    "NumPy 里面针对Ndarray的数组切片和 Python 里的list 切片操作是一样的。其语法为：  \n",
    "Ndarray\\[start:stop:step]  \n",
    "  \n",
    "### 一维数组"
   ],
   "cell_type": "markdown",
   "metadata": {}
  },
  {
   "cell_type": "code",
   "execution_count": 45,
   "metadata": {},
   "outputs": [
    {
     "output_type": "execute_result",
     "data": {
      "text/plain": [
       "(array([0, 1, 2, 3, 4, 5, 6, 7, 8, 9]),\n",
       " array([0, 1, 2, 3, 4]),\n",
       " array([5, 6, 7, 8, 9]),\n",
       " array([0, 2, 4, 6, 8]))"
      ]
     },
     "metadata": {},
     "execution_count": 45
    }
   ],
   "source": [
    "demo = np.arange(10)\n",
    "demo, demo[:5], demo[5:], demo[::2]"
   ]
  },
  {
   "source": [
    "### 多维数组  \n",
    "对于多维数组，只需要用逗号，分割不同维度即可"
   ],
   "cell_type": "markdown",
   "metadata": {}
  },
  {
   "cell_type": "code",
   "execution_count": 46,
   "metadata": {},
   "outputs": [
    {
     "output_type": "execute_result",
     "data": {
      "text/plain": [
       "(array([[ 0,  1,  2,  3,  4],\n",
       "        [ 5,  6,  7,  8,  9],\n",
       "        [10, 11, 12, 13, 14],\n",
       "        [15, 16, 17, 18, 19]]),\n",
       " array([[ 6,  7,  8],\n",
       "        [11, 12, 13]]),\n",
       " array([[ 5,  7,  9],\n",
       "        [10, 12, 14]]))"
      ]
     },
     "metadata": {},
     "execution_count": 46
    }
   ],
   "source": [
    "demo = np.arange(20).reshape(4, 5)\n",
    "demo, demo[1:3, 1:4], demo[1:3, ::2]"
   ]
  },
  {
   "cell_type": "code",
   "execution_count": 47,
   "metadata": {},
   "outputs": [
    {
     "output_type": "execute_result",
     "data": {
      "text/plain": [
       "(array([[[ 0,  1,  2],\n",
       "         [ 3,  4,  5],\n",
       "         [ 6,  7,  8],\n",
       "         [ 9, 10, 11],\n",
       "         [12, 13, 14]],\n",
       " \n",
       "        [[15, 16, 17],\n",
       "         [18, 19, 20],\n",
       "         [21, 22, 23],\n",
       "         [24, 25, 26],\n",
       "         [27, 28, 29]]]),\n",
       " array([[[19, 20],\n",
       "         [22, 23],\n",
       "         [25, 26]]]))"
      ]
     },
     "metadata": {},
     "execution_count": 47
    }
   ],
   "source": [
    "demo = np.arange(30).reshape(2, 5, 3)\n",
    "demo, demo[1:, 1:4, 1:]"
   ]
  },
  {
   "source": [
    "## 排序、搜索、计数  \n",
    "* argmax(a ,axis,out)：返回数组中指定轴的最大值的索引。  \n",
    "* nanargmax(a ,axis)：返回数组中指定轴的最大值的索引,忽略 NaN。  \n",
    "* argmin(a ,axis,out)：返回数组中指定轴的最小值的索引。  \n",
    "* nanargmin(a ,axis)：返回数组中指定轴的最小值的索引,忽略 NaN。  \n",
    "* argwhere(a)：返回数组中非 0 元素的索引,按元素分组。  \n",
    "* nonzero(a)：返回数组中非 0 元素的索引。  \n",
    "* flatnonzero(a)：返回数组中非 0 元素的索引,并铺平。  \n",
    "* where(条件,x,y)：根据指定条件,从指定行、列返回元素。  \n",
    "* searchsorted(a,v ,side,sorter)：查找要插入元素以维持顺序的索引。  \n",
    "* extract(condition,arr)：返回满足某些条件的数组的元素。  \n",
    "* count_nonzero(a)：计算数组中非 0 元素的数量。"
   ],
   "cell_type": "markdown",
   "metadata": {}
  }
 ]
}